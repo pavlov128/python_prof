{
 "cells": [
  {
   "cell_type": "code",
   "execution_count": null,
   "metadata": {},
   "outputs": [],
   "source": [
    "from typing import Union, List, Any\n",
    "import taskTesting as tests\n",
    "\n",
    "\n",
    "def runTesting(testsFileName):\n",
    "    testFiles = tests.extractTests(testsFileName)\n",
    "    all_Tests_Is_OK = True\n",
    "\n",
    "    for k, v in testFiles.items():\n",
    "        res = ''\n",
    "        m_text_module = v[0].replace('print', 'res = ')\n",
    "        exec(m_text_module)\n",
    "\n",
    "        tests_result = (str(res).strip() == str(v[1]).strip())\n",
    "        if not tests_result:\n",
    "            all_Tests_Is_OK = False\n",
    "        if not tests_result:\n",
    "            print(f'{m_text_module} {str(v[1]).strip()}')\n",
    "        print(f'Результат теста {k}:   {tests_result}')\n",
    "\n",
    "    if all_Tests_Is_OK:\n",
    "        tests.removeFolder(testsFileName)\n"
   ]
  },
  {
   "cell_type": "code",
   "execution_count": null,
   "metadata": {},
   "outputs": [],
   "source": [
    "import taskTesting as tests\n",
    "\n",
    "def hide_card(card_number: str) -> str:\n",
    "    card_number = card_number.replace(' ', '')\n",
    "    card_number = '*' * 12 + card_number[-4:]\n",
    "    return card_number\n",
    "\n",
    "\n",
    "# TESTS\n",
    "testsFileName = 'tests_2310066.zip'\n",
    "# вставить код верхней функции runTesting"
   ]
  },
  {
   "cell_type": "code",
   "execution_count": null,
   "metadata": {},
   "outputs": [],
   "source": [
    "import taskTesting as tests\n",
    "\n",
    "\n",
    "def same_parity(numbers: list) -> list:\n",
    "    return [i for i in numbers if i % 2 == numbers[0] % 2]\n",
    "\n",
    "\n",
    "# TESTS\n",
    "testsFileName = 'tests_2310059.zip'\n",
    "# вставить код верхней функции runTesting\n"
   ]
  },
  {
   "cell_type": "code",
   "execution_count": null,
   "metadata": {},
   "outputs": [],
   "source": [
    "import taskTesting as tests\n",
    "\n",
    "\n",
    "def is_valid(string: str) -> bool:\n",
    "\n",
    "    if len(string) > 6 or len(string) < 4:\n",
    "        return False\n",
    "    return string.isdigit()\n",
    "\n",
    "\n",
    "# TESTS\n",
    "testsFileName = 'tests_2310081.zip'\n",
    "# вставить код верхней функции runTesting\n",
    "\n",
    "# решение авторов\n",
    "# def is_valid(pin):\n",
    "#     return pin.isdigit() and len(pin) in (4, 5, 6)\n"
   ]
  },
  {
   "cell_type": "code",
   "execution_count": null,
   "metadata": {},
   "outputs": [],
   "source": [
    "import taskTesting as tests\n",
    "\n",
    "def print_given(*args, **kwargs):\n",
    "\n",
    "    sorted_tuple = sorted(kwargs.items(), key=lambda x: x[0])\n",
    "\n",
    "    for arg in args:\n",
    "        print(f'{arg} {type(arg)}')\n",
    "    for key, value in sorted_tuple:\n",
    "        print(f'{key} {value} {type(value)}')\n",
    " \n",
    "\n",
    "# TESTS\n",
    "testsFileName = 'tests_2757616.zip'\n",
    "# вставить код верхней функции runTesting\n"
   ]
  }
 ],
 "metadata": {
  "kernelspec": {
   "display_name": "Python 3.10.6 64-bit",
   "language": "python",
   "name": "python3"
  },
  "language_info": {
   "codemirror_mode": {
    "name": "ipython",
    "version": 3
   },
   "file_extension": ".py",
   "mimetype": "text/x-python",
   "name": "python",
   "nbconvert_exporter": "python",
   "pygments_lexer": "ipython3",
   "version": "3.10.6"
  },
  "orig_nbformat": 4,
  "vscode": {
   "interpreter": {
    "hash": "1577f3da0d5a45fa020a7b1a8c82a53518f74076236be6beab4768405b3cd1e4"
   }
  }
 },
 "nbformat": 4,
 "nbformat_minor": 2
}
