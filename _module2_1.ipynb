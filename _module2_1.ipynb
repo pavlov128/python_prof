{
 "cells": [
  {
   "cell_type": "code",
   "execution_count": null,
   "metadata": {},
   "outputs": [],
   "source": [
    "import taskTesting as tests\n",
    "\n",
    "def hide_card(card_number: str) -> str:\n",
    "    card_number = card_number.replace(' ', '')\n",
    "    card_number = '*' * 12 + card_number[-4:]\n",
    "    return card_number\n",
    "\n",
    "\n",
    "# TESTS\n",
    "testsFileName = 'tests_2310066.zip'\n",
    "testFiles = tests.extractTests(testsFileName)\n",
    "all_Tests_Is_OK = True \n",
    "\n",
    "for k,v in testFiles.items():\n",
    "    res = ''\n",
    "    m_text_module = v[0].replace('print', 'res = ')\n",
    "    exec(m_text_module)\n",
    "    tests_result = (res.strip() == v[1].strip())\n",
    "    if not tests_result: all_Tests_Is_OK = False\n",
    "    print(f'Резульатат теста {k}:   {tests_result}')\n",
    "\n",
    "if all_Tests_Is_OK: tests.removeFolder(testsFileName)\n"
   ]
  },
  {
   "cell_type": "code",
   "execution_count": null,
   "metadata": {},
   "outputs": [],
   "source": [
    "from typing import Any\n",
    "from typing import Union, List\n",
    "import taskTesting as tests\n",
    "\n",
    "def same_parity(numbers: str) -> str:\n",
    "    # card_number = card_number.replace(' ', '')\n",
    "    # card_number = '*' * 12 + card_number[-4:]\n",
    "    return numbers\n",
    "\n",
    "# TESTS\n",
    "testsFileName = 'tests_2310059.zip'\n",
    "testFiles = tests.extractTests(testsFileName)\n",
    "all_Tests_Is_OK = True \n",
    "\n",
    "for k,v in testFiles.items():\n",
    "    res = ''\n",
    "    m_text_module = v[0].replace('print', 'res = ')\n",
    "    exec(m_text_module)\n",
    "    tests_result = (res.strip() == v[1].strip())\n",
    "    if not tests_result: all_Tests_Is_OK = False\n",
    "    print(f'Резульатат теста {k}:   {tests_result}')\n",
    "\n",
    "if all_Tests_Is_OK: tests.removeFolder(testsFileName)\n",
    "\n",
    "\n"
   ]
  }
 ],
 "metadata": {
  "kernelspec": {
   "display_name": "Python 3.10.6 64-bit",
   "language": "python",
   "name": "python3"
  },
  "language_info": {
   "codemirror_mode": {
    "name": "ipython",
    "version": 3
   },
   "file_extension": ".py",
   "mimetype": "text/x-python",
   "name": "python",
   "nbconvert_exporter": "python",
   "pygments_lexer": "ipython3",
   "version": "3.10.6"
  },
  "orig_nbformat": 4,
  "vscode": {
   "interpreter": {
    "hash": "1577f3da0d5a45fa020a7b1a8c82a53518f74076236be6beab4768405b3cd1e4"
   }
  }
 },
 "nbformat": 4,
 "nbformat_minor": 2
}
