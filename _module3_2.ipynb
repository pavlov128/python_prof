{
 "cells": [
  {
   "cell_type": "code",
   "execution_count": null,
   "metadata": {},
   "outputs": [],
   "source": [
    "from typing import Union, List, Any\n",
    "import taskTesting as tests\n",
    "\n",
    "def runTask(var):\n",
    "    \"\"\"заглушка - чтобы не ругался VSC\"\"\"\n",
    "    pass\n",
    "\n",
    "def run_testing(tests_file_name):\n",
    "    test_files = tests.extract_tests(tests_file_name)\n",
    "    split_type = None\n",
    "    all_tests_is_ok = True\n",
    "\n",
    "    # для правильной сортировки тестов по числу а не строке\n",
    "    int_test_files = {int(k): v for k, v in test_files.items()}\n",
    "    for k, v in sorted(int_test_files.items()):\n",
    "\n",
    "        res = runTask(list(map(str.strip, v[0].split(split_type))))\n",
    "        tests_result = (str(res).strip() == str(v[1]).strip())\n",
    "        if not tests_result:\n",
    "            all_tests_is_ok = False\n",
    "            print(f'Результат теста {k}:   {tests_result}\\n')\n",
    "            print(f'Текст модуля: \\n{v[0]}\\n')\n",
    "            print(f'Результат выполнения: {res}')\n",
    "            print(f'Ожидаемый результат: {str(v[1]).strip()}\\n')\n",
    "        else:\n",
    "            print(f'Результат теста {k}:   {tests_result}\\n')\n",
    "\n",
    "    if all_tests_is_ok:\n",
    "        tests.remove_folder(tests_file_name)\n",
    "\n"
   ]
  },
  {
   "cell_type": "code",
   "execution_count": null,
   "metadata": {},
   "outputs": [],
   "source": [
    "from datetime import time\n",
    "\n",
    "alarm = time(7, 30, 25)\n",
    "\n",
    "print('Часы:', alarm.strftime('%H'))\n",
    "print('Минуты:', alarm.strftime('%M'))\n",
    "print('Секунды:', alarm.strftime('%S'))"
   ]
  },
  {
   "cell_type": "code",
   "execution_count": null,
   "metadata": {},
   "outputs": [],
   "source": [
    "from datetime import date\n",
    "\n",
    "birthday = date(1992, 10, 6)\n",
    "\n",
    "print('Название месяца:', birthday.strftime('%B'))\n",
    "print('Название дня недели:', birthday.strftime('%A'))\n",
    "print('Год:', birthday.strftime('%Y'))\n",
    "print('Месяц:', birthday.strftime('%m'))\n",
    "print('День:', birthday.strftime('%d'))"
   ]
  },
  {
   "cell_type": "code",
   "execution_count": null,
   "metadata": {},
   "outputs": [],
   "source": [
    "from datetime import date\n",
    "\n",
    "florida_hurricane_dates = [date(1992, 4, 24), date(1991, 8, 24), date(1992, 8, 24)]\n",
    "\n",
    "# присваиваем самую раннюю дату урагана в переменную first_date\n",
    "first_date = min(florida_hurricane_dates)\n",
    "\n",
    "# конвертируем дату в ISO и RU формат\n",
    "iso = 'Дата первого урагана в ISO формате: ' + first_date.isoformat()\n",
    "ru = 'Дата первого урагана в RU формате: ' + first_date.strftime('%d.%m.%Y')\n",
    "us = 'Дата первого урагана в US формате: ' + first_date.strftime('%m/%d/%Y')\n",
    "\n",
    "print(iso)\n",
    "print(ru)\n",
    "print(us)"
   ]
  },
  {
   "cell_type": "code",
   "execution_count": null,
   "metadata": {},
   "outputs": [],
   "source": [
    "from datetime import date\n",
    "\n",
    "andrew = date(1992, 8, 24)\n",
    "\n",
    "print(andrew.strftime('%Y-%m'))   # выводим дату в формате YYYY-MM\n",
    "print(andrew.strftime('%B (%Y)'))   # выводим дату в формате month_name (YYYY)\n",
    "print(andrew.strftime('%Y-%j'))   # выводим дату в формате YYYY-day_number"
   ]
  },
  {
   "cell_type": "code",
   "execution_count": null,
   "metadata": {},
   "outputs": [],
   "source": [
    "import taskTesting as tests\n",
    "from datetime import date\n",
    "\n",
    "\n",
    "def runTask(lst_in):\n",
    "    #\n",
    "    # import sys\n",
    "    # lst_in = list(map(str.strip, sys.stdin.readlines()))  # считывание списка строк из входного потока\n",
    "    # lst_in = sys.stdin.readlines()[0].split()  # считывание первой строки из входного потока в список\n",
    "    #\n",
    "    date1, date2 =  date.fromisoformat(lst_in[0]),  date.fromisoformat(lst_in[1])\n",
    "    res = min(date1, date2).strftime('%d-%m (%Y)')\n",
    "\n",
    "    return res\n",
    "    print(res)\n",
    "\n",
    "\n",
    "# TESTS\n",
    "tests_file_name = 'tests_2491371.zip'\n",
    "# для тестирования вставить код функции run_testing данного модуля (не саму функцию, а ее тело)"
   ]
  },
  {
   "cell_type": "code",
   "execution_count": null,
   "metadata": {},
   "outputs": [],
   "source": [
    "import taskTesting as tests\n",
    "from datetime import date\n",
    "\n",
    "\n",
    "def runTask(lst_in):\n",
    "    #\n",
    "    # import sys\n",
    "    # lst_in = list(map(str.strip, sys.stdin.readlines()))  # считывание списка строк из входного потока\n",
    "    # lst_in = sys.stdin.readlines()[0].split()  # считывание первой строки из входного потока в список\n",
    "    #\n",
    "    date1, date2 =  date.fromisoformat(lst_in[0]),  date.fromisoformat(lst_in[1])\n",
    "    res = min(date1, date2).strftime('%d-%m (%Y)')\n",
    "\n",
    "    return res\n",
    "    print(res)\n",
    "\n",
    "\n",
    "# TESTS\n",
    "tests_file_name = 'tests_2491371.zip'\n",
    "# для тестирования вставить код функции run_testing данного модуля (не саму функцию, а ее тело)\n",
    "\n",
    "test_files = tests.extract_tests(tests_file_name)\n",
    "split_type = None\n",
    "all_tests_is_ok = True\n",
    "\n",
    "# для правильной сортировки тестов по числу а не строке\n",
    "int_test_files = {int(k): v for k, v in test_files.items()}\n",
    "for k, v in sorted(int_test_files.items()):\n",
    "\n",
    "    res = runTask(list(map(str.strip, v[0].split(split_type))))\n",
    "    tests_result = (str(res).strip() == str(v[1]).strip())\n",
    "    if not tests_result:\n",
    "        all_tests_is_ok = False\n",
    "        print(f'Результат теста {k}:   {tests_result}\\n')\n",
    "        print(f'Текст модуля: \\n{v[0]}\\n')\n",
    "        print(f'Результат выполнения: {res}')\n",
    "        print(f'Ожидаемый результат: {str(v[1]).strip()}\\n')\n",
    "    else:\n",
    "        print(f'Результат теста {k}:   {tests_result}\\n')\n",
    "\n",
    "if all_tests_is_ok:\n",
    "    tests.remove_folder(tests_file_name)"
   ]
  }
 ],
 "metadata": {
  "kernelspec": {
   "display_name": "Python 3.10.6 64-bit",
   "language": "python",
   "name": "python3"
  },
  "language_info": {
   "codemirror_mode": {
    "name": "ipython",
    "version": 3
   },
   "file_extension": ".py",
   "mimetype": "text/x-python",
   "name": "python",
   "nbconvert_exporter": "python",
   "pygments_lexer": "ipython3",
   "version": "3.10.6"
  },
  "orig_nbformat": 4,
  "vscode": {
   "interpreter": {
    "hash": "1577f3da0d5a45fa020a7b1a8c82a53518f74076236be6beab4768405b3cd1e4"
   }
  }
 },
 "nbformat": 4,
 "nbformat_minor": 2
}
