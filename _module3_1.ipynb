{
 "cells": [
  {
   "cell_type": "code",
   "execution_count": null,
   "metadata": {},
   "outputs": [],
   "source": [
    "from typing import Union, List, Any\n",
    "import taskTesting as tests\n",
    "\n",
    "def runTask(var):\n",
    "    \"\"\"заглушка - чтобы не ругался VSC\"\"\"\n",
    "    pass\n",
    "\n",
    "def run_testing(tests_file_name):\n",
    "    test_files = tests.extract_tests(tests_file_name)\n",
    "    split_type = None\n",
    "    all_tests_is_ok = True\n",
    "\n",
    "    # для правильной сортировки тестов по числу а не строке\n",
    "    int_test_files = {int(k): v for k, v in test_files.items()}\n",
    "    for k, v in sorted(int_test_files.items()):\n",
    "\n",
    "        res = runTask(list(map(str.strip, v[0].split(split_type))))\n",
    "        tests_result = (str(res).strip() == str(v[1]).strip())\n",
    "        if not tests_result:\n",
    "            all_tests_is_ok = False\n",
    "            print(f'Результат теста {k}:   {tests_result}\\n')\n",
    "            print(f'Текст модуля: \\n{v[0]}\\n')\n",
    "            print(f'Результат выполнения: {res}')\n",
    "            print(f'Ожидаемый результат: {str(v[1]).strip()}\\n')\n",
    "        else:\n",
    "            print(f'Результат теста {k}:   {tests_result}\\n')\n",
    "\n",
    "    if all_tests_is_ok:\n",
    "        tests.remove_folder(tests_file_name)\n"
   ]
  },
  {
   "cell_type": "code",
   "execution_count": 2,
   "metadata": {},
   "outputs": [
    {
     "name": "stdout",
     "output_type": "stream",
     "text": [
      "2022-11-14\n"
     ]
    }
   ],
   "source": [
    "# импортируем тип date из модуля datetime\n",
    "from datetime import date\n",
    "\n",
    "# выводим текущую дату\n",
    "print(date.today())"
   ]
  },
  {
   "cell_type": "code",
   "execution_count": 3,
   "metadata": {},
   "outputs": [
    {
     "name": "stdout",
     "output_type": "stream",
     "text": [
      "1\n"
     ]
    }
   ],
   "source": [
    "# импортируем тип date из модуля datetime\n",
    "from datetime import date\n",
    "\n",
    "# создаем объект, соответсвующий дате урагана\n",
    "hurricane_andrew = date(1992, 8, 24)\n",
    "\n",
    "# выводим день недели\n",
    "print(hurricane_andrew.weekday())"
   ]
  },
  {
   "cell_type": "code",
   "execution_count": null,
   "metadata": {},
   "outputs": [],
   "source": [
    "# импортируем тип date из модуля datetime\n",
    "from datetime import date\n",
    "\n",
    "\n",
    "\n",
    "# счетчик для нужного количества ураганов\n",
    "early_hurricanes = ____\n",
    "\n",
    "# цикл по датам в которые был ураган\n",
    "for hurricane in ____:\n",
    "    # если месяц урагана меньше чем июнь (порядковый номер 6)\n",
    "    if ____.____ < ____:\n",
    "        early_hurricanes += 1\n",
    "\n",
    "print(early_hurricanes)"
   ]
  },
  {
   "cell_type": "code",
   "execution_count": null,
   "metadata": {},
   "outputs": [],
   "source": [
    "import taskTesting as tests\n",
    "from datetime import date\n",
    "import sys\n",
    "\n",
    "\n",
    "def runTask(lst_in):\n",
    "    # \n",
    "    # import sys\n",
    "    # lst_in = list(map(str.strip, sys.stdin.readlines()))  # считывание списка строк из входного потока\n",
    "    # \n",
    "\n",
    "    lst_int = list(map(int, lst_in))\n",
    "    d1, d2, d3 = lst_int\n",
    "    s1 = 2*min(lst_int)  # минимальное значение\n",
    "    s2 = 2*sorted(lst_int)[1]  # среднее значение\n",
    "    res = min(d1+d2+d3, s1+s2)\n",
    "\n",
    "    return res\n",
    "    print(res)\n",
    "\n",
    "\n",
    "# TESTS\n",
    "tests_file_name = 'tests_2310068.zip'\n",
    "# для тестирования вставить код функции run_testing данного модуля\n",
    "\n"
   ]
  }
 ],
 "metadata": {
  "kernelspec": {
   "display_name": "Python 3.10.6 64-bit",
   "language": "python",
   "name": "python3"
  },
  "language_info": {
   "codemirror_mode": {
    "name": "ipython",
    "version": 3
   },
   "file_extension": ".py",
   "mimetype": "text/x-python",
   "name": "python",
   "nbconvert_exporter": "python",
   "pygments_lexer": "ipython3",
   "version": "3.10.6"
  },
  "orig_nbformat": 4,
  "vscode": {
   "interpreter": {
    "hash": "1577f3da0d5a45fa020a7b1a8c82a53518f74076236be6beab4768405b3cd1e4"
   }
  }
 },
 "nbformat": 4,
 "nbformat_minor": 2
}
