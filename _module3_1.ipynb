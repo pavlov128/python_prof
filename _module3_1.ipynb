{
 "cells": [
  {
   "cell_type": "code",
   "execution_count": null,
   "metadata": {},
   "outputs": [],
   "source": [
    "from typing import Union, List, Any\n",
    "import taskTesting as tests\n",
    "\n",
    "\n",
    "def run_testing(tests_file_name):\n",
    "    test_files = tests.extract_tests(tests_file_name)\n",
    "    all_tests_is_ok = True\n",
    "\n",
    "    for k, v in test_files.items():\n",
    "        res = ''\n",
    "        m_text_module = v[0].replace('print', 'res = ')\n",
    "        exec(m_text_module)\n",
    "\n",
    "        tests_result = (str(res).strip() == str(v[1]).strip())\n",
    "        if not tests_result:\n",
    "            all_tests_is_ok = False\n",
    "            print(f'Тест {k} НЕВЫПОЛНЕН')\n",
    "            print(f'Текст модуля: {m_text_module}\\n')\n",
    "            print(f'Результат выполнения: {res}')\n",
    "            print(f'Ожидаемый результат: {str(v[1]).strip()}\\n')\n",
    "        else:\n",
    "            print(f'Результат теста {k}:   {tests_result}')\n",
    "\n",
    "    if all_tests_is_ok:\n",
    "        tests.remove_folder(tests_file_name)\n",
    "\n",
    "# для тестирования вставить код функции run_testing данного модуля (не саму функцию, а ее тело)\n"
   ]
  },
  {
   "cell_type": "code",
   "execution_count": null,
   "metadata": {},
   "outputs": [],
   "source": [
    "# импортируем тип date из модуля datetime\n",
    "from datetime import date\n",
    "\n",
    "# выводим текущую дату\n",
    "print(date.today())"
   ]
  },
  {
   "cell_type": "code",
   "execution_count": null,
   "metadata": {},
   "outputs": [],
   "source": [
    "# импортируем тип date из модуля datetime\n",
    "from datetime import date\n",
    "\n",
    "# создаем объект, соответсвующий дате урагана\n",
    "hurricane_andrew = date(1992, 8, 24)\n",
    "\n",
    "# выводим день недели\n",
    "print(hurricane_andrew.weekday())"
   ]
  },
  {
   "cell_type": "code",
   "execution_count": null,
   "metadata": {},
   "outputs": [],
   "source": [
    "# импортируем тип date из модуля datetime\n",
    "from datetime import date\n",
    "\n",
    "florida_hurricane_dates = [date(1992, 4, 24), date(1991, 8, 24), date(1992, 8, 24)]\n",
    "\n",
    "# счетчик для нужного количества ураганов\n",
    "early_hurricanes = 0\n",
    "\n",
    "# цикл по датам в которые был ураган\n",
    "for hurricane in florida_hurricane_dates:\n",
    "    # если месяц урагана меньше чем июнь (порядковый номер 6)\n",
    "    if hurricane.month < 6:\n",
    "        early_hurricanes += 1\n",
    "\n",
    "print(early_hurricanes)\n"
   ]
  },
  {
   "cell_type": "code",
   "execution_count": null,
   "metadata": {},
   "outputs": [],
   "source": [
    "from datetime import date\n",
    "\n",
    "dates = [date(2010, 9, 28), date(2017, 1, 13), date(2009, 12, 25), date(2010, 2, 27), date(2021, 10, 11), date(2020, 3, 13), date(2000, 7, 7), date(1999, 4, 14), date(1789, 11, 19), date(2013, 8, 21), date(1666, 6, 6), date(1968, 5, 26)]\n",
    "\n",
    "print('\\n'.join(map(lambda x: f'{x.year}-Q{(x.month-1) // 3 + 1}', dates)))\n",
    "\n",
    "\n"
   ]
  },
  {
   "cell_type": "code",
   "execution_count": null,
   "metadata": {},
   "outputs": [],
   "source": [
    "import taskTesting as tests\n",
    "from datetime import date\n",
    "\n",
    "\n",
    "def get_min_max(lst: list) -> tuple:\n",
    "    return (min(lst), max(lst)) if lst else ()\n",
    "\n",
    "\n",
    "# TESTS\n",
    "tests_file_name = 'tests_2489841.zip'\n",
    "# для тестирования вставить код функции run_testing данного модуля (не саму функцию, а ее тело)\n"
   ]
  },
  {
   "cell_type": "code",
   "execution_count": null,
   "metadata": {},
   "outputs": [],
   "source": [
    "import taskTesting as tests\n",
    "from datetime import date\n",
    "\n",
    "\n",
    "def get_date_range(start: date, end: date) -> list:\n",
    "    res = [date.fromordinal(start.toordinal()+i) for i in range(0, end.toordinal() - start.toordinal() + 1)]\n",
    "    return res\n",
    "\n",
    "\n",
    "# тесты не предусмотрены\n",
    "date1 = date(2021, 10, 1)\n",
    "date2 = date(2021, 10, 5)\n",
    "\n",
    "print(*get_date_range(date1, date2), sep='\\n')\n",
    "\n",
    "# более правильно\n",
    "# def get_date_range(start, end):\n",
    "#     return [date.fromordinal(i) for i in range(start.toordinal(), end.toordinal() + 1)]\n"
   ]
  },
  {
   "cell_type": "code",
   "execution_count": null,
   "metadata": {},
   "outputs": [],
   "source": [
    "import taskTesting as tests\n",
    "from datetime import date\n",
    "\n",
    "\n",
    "def saturdays_between_two_dates(start: date, end: date) -> int:\n",
    "\n",
    "    if start > end:\n",
    "        start, end = end, start\n",
    "\n",
    "    lst = [date.fromordinal(i) for i in range(start.toordinal(), end.toordinal() + 1) if date.fromordinal(i).isoweekday() == 6]\n",
    "\n",
    "    return len(lst)\n",
    "\n",
    "\n",
    "# TESTS\n",
    "tests_file_name = 'tests_3057804.zip'\n",
    "# для тестирования вставить код функции run_testing данного модуля (не саму функцию, а ее тело)\n",
    "\n",
    "\n",
    "test_files = tests.extract_tests(tests_file_name)\n",
    "all_tests_is_ok = True\n",
    "\n",
    "for k, v in test_files.items():\n",
    "    res = ''\n",
    "    m_text_module = v[0].replace('print', 'res = ')\n",
    "    exec(m_text_module)\n",
    "\n",
    "    tests_result = (str(res).strip() == str(v[1]).strip())\n",
    "    if not tests_result:\n",
    "        all_tests_is_ok = False\n",
    "        print(f'Тест {k} НЕВЫПОЛНЕН')\n",
    "        print(f'Текст модуля: {m_text_module}\\n')\n",
    "        print(f'Результат выполнения: {res}')\n",
    "        print(f'Ожидаемый результат: {str(v[1]).strip()}\\n')\n",
    "    else:\n",
    "        print(f'Результат теста {k}:   {tests_result}')\n",
    "\n",
    "if all_tests_is_ok:\n",
    "    tests.remove_folder(tests_file_name)\n"
   ]
  }
 ],
 "metadata": {
  "kernelspec": {
   "display_name": "Python 3.10.6 64-bit",
   "language": "python",
   "name": "python3"
  },
  "language_info": {
   "codemirror_mode": {
    "name": "ipython",
    "version": 3
   },
   "file_extension": ".py",
   "mimetype": "text/x-python",
   "name": "python",
   "nbconvert_exporter": "python",
   "pygments_lexer": "ipython3",
   "version": "3.10.6"
  },
  "orig_nbformat": 4,
  "vscode": {
   "interpreter": {
    "hash": "1577f3da0d5a45fa020a7b1a8c82a53518f74076236be6beab4768405b3cd1e4"
   }
  }
 },
 "nbformat": 4,
 "nbformat_minor": 2
}
