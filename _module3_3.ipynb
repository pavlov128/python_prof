{
 "cells": [
  {
   "cell_type": "code",
   "execution_count": null,
   "metadata": {},
   "outputs": [],
   "source": [
    "from typing import Union, List, Any\n",
    "import taskTesting as tests\n",
    "\n",
    "def runTask(var):\n",
    "    \"\"\"заглушка - чтобы не ругался VSC\"\"\"\n",
    "    pass\n",
    "\n",
    "# для тестирования потокового ввода\n",
    "def run_testing(tests_file_name):\n",
    "    test_files = tests.extract_tests(tests_file_name)\n",
    "    split_type = None\n",
    "    all_tests_is_ok = True\n",
    "\n",
    "    # для правильной сортировки тестов по числу а не строке\n",
    "    int_test_files = {int(k): v for k, v in test_files.items()}\n",
    "    for k, v in sorted(int_test_files.items()):\n",
    "\n",
    "        res = runTask(list(map(str.strip, v[0].split(split_type))))\n",
    "        tests_result = (str(res).strip() == str(v[1]).strip())\n",
    "        if not tests_result:\n",
    "            all_tests_is_ok = False\n",
    "            print(f'Результат теста {k}:   {tests_result}\\n')\n",
    "            print(f'Текст модуля: \\n{v[0]}\\n')\n",
    "            print(f'Результат выполнения: {res}')\n",
    "            print(f'Ожидаемый результат: {str(v[1]).strip()}\\n')\n",
    "        else:\n",
    "            print(f'Результат теста {k}:   {tests_result}\\n')\n",
    "\n",
    "    if all_tests_is_ok:\n",
    "        tests.remove_folder(tests_file_name)\n",
    "\n",
    "# для тестирования функций\n",
    "def run_testing_func(tests_file_name):\n",
    "    test_files = tests.extract_tests(tests_file_name)\n",
    "    all_tests_is_ok = True\n",
    "\n",
    "    for k, v in test_files.items():\n",
    "        res = ''\n",
    "        m_text_module = v[0].replace('print', 'res = ')\n",
    "        exec(m_text_module)\n",
    "\n",
    "        tests_result = (str(res).strip() == str(v[1]).strip())\n",
    "        if not tests_result:\n",
    "            all_tests_is_ok = False\n",
    "            print(f'Тест {k} НЕВЫПОЛНЕН')\n",
    "            print(f'Текст модуля: {m_text_module}\\n')\n",
    "            print(f'Результат выполнения: {res}')\n",
    "            print(f'Ожидаемый результат: {str(v[1]).strip()}\\n')\n",
    "        else:\n",
    "            print(f'Результат теста {k}:   {tests_result}')\n",
    "\n",
    "    if all_tests_is_ok:\n",
    "        tests.remove_folder(tests_file_name)\n",
    "\n",
    "# для тестирования вставить код функции run_testing данного модуля (не саму функцию, а ее тело)\n",
    "\n"
   ]
  },
  {
   "cell_type": "code",
   "execution_count": 1,
   "metadata": {},
   "outputs": [
    {
     "name": "stdout",
     "output_type": "stream",
     "text": [
      "2022-07-15 08:30:00\n"
     ]
    }
   ],
   "source": [
    "from datetime import datetime\n",
    "\n",
    "text = 'Уважаемый пациент, доктор готов принять Вас 15.07.2022 в 08:30'\n",
    "\n",
    "dt = datetime.strptime(text, 'Уважаемый пациент, доктор готов принять Вас %d.%m.%Y в %H:%M')\n",
    "\n",
    "print(dt)"
   ]
  },
  {
   "cell_type": "code",
   "execution_count": 1,
   "metadata": {},
   "outputs": [
    {
     "name": "stdout",
     "output_type": "stream",
     "text": [
      "2048-09-09 04:46:40\n",
      "1320354000.0\n"
     ]
    }
   ],
   "source": [
    "from datetime import datetime\n",
    "\n",
    "seconds = 2483228800\n",
    "dt = datetime(2011, 11, 4)\n",
    "\n",
    "print(datetime.fromtimestamp(seconds))\n",
    "print(dt.timestamp())"
   ]
  },
  {
   "cell_type": "code",
   "execution_count": null,
   "metadata": {},
   "outputs": [],
   "source": [
    "from datetime import datetime, time\n",
    "\n",
    "times_of_purchases = [datetime(2017, 10, 1, 12, 23, 25), datetime(2017, 10, 1, 6, 26, 26), \n",
    "                      datetime(2017, 10, 1, 16, 42, 57), datetime(2017, 10, 1, 6, 49, 59), \n",
    "                      datetime(2017, 10, 2, 16, 37, 10), datetime(2017, 10, 2, 16, 42, 53)]\n",
    "\n",
    "print(('До полудня', 'После полудня')[sum(list(map(lambda x: x.time() <= time(12, 0, 0), times_of_purchases)))*2 < len(times_of_purchases)])\n",
    "                      "
   ]
  },
  {
   "cell_type": "code",
   "execution_count": null,
   "metadata": {},
   "outputs": [],
   "source": [
    "import taskTesting as tests\n",
    "from datetime import date\n",
    "\n",
    "\n",
    "# def print_good_dates(dates: list[date]) -> str:\n",
    "\n",
    "#     filtered_dates = list(filter(lambda x: ((x.year) == 1992) and (x.day+x.month == 29),dates))\n",
    "    \n",
    "#     if not filtered_dates: return '' \n",
    "\n",
    "#     res = '\\n'.join(map(lambda x: x.strftime('%B %d, %Y'), sorted(filtered_dates)))\n",
    "  \n",
    "#     return res\n",
    "#     print(res)\n",
    "\n",
    "# # TESTS\n",
    "# tests_file_name = 'tests_2503974.zip'\n",
    "# # для тестирования вставить код функции run_testing_func данного модуля (не саму функцию, а ее тело)\n",
    "\n"
   ]
  }
 ],
 "metadata": {
  "kernelspec": {
   "display_name": "Python 3.10.6 64-bit",
   "language": "python",
   "name": "python3"
  },
  "language_info": {
   "codemirror_mode": {
    "name": "ipython",
    "version": 3
   },
   "file_extension": ".py",
   "mimetype": "text/x-python",
   "name": "python",
   "nbconvert_exporter": "python",
   "pygments_lexer": "ipython3",
   "version": "3.10.6"
  },
  "orig_nbformat": 4,
  "vscode": {
   "interpreter": {
    "hash": "1577f3da0d5a45fa020a7b1a8c82a53518f74076236be6beab4768405b3cd1e4"
   }
  }
 },
 "nbformat": 4,
 "nbformat_minor": 2
}
